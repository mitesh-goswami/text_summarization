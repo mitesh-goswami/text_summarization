{
  "nbformat": 4,
  "nbformat_minor": 0,
  "metadata": {
    "colab": {
      "name": "text_summarization.ipynb",
      "provenance": [],
      "authorship_tag": "ABX9TyPGAUP1Vgv+mqnIYegFrKXl",
      "include_colab_link": true
    },
    "kernelspec": {
      "name": "python3",
      "display_name": "Python 3"
    }
  },
  "cells": [
    {
      "cell_type": "markdown",
      "metadata": {
        "id": "view-in-github",
        "colab_type": "text"
      },
      "source": [
        "<a href=\"https://colab.research.google.com/github/mitesh-goswami/text_summarization/blob/main/text_summarization.ipynb\" target=\"_parent\"><img src=\"https://colab.research.google.com/assets/colab-badge.svg\" alt=\"Open In Colab\"/></a>"
      ]
    },
    {
      "cell_type": "code",
      "metadata": {
        "id": "Kg2YB7b8Hx0B"
      },
      "source": [
        "txt = \"\"\" I'm deeply honoured to have been asked by Phillip's family to speak today. I am humbled to be in the presence of you, his family, his friends and his community. He was so proud of Macksville and it is easy to see why today.\r\n",
        "Taken from the game, his family and loved ones at the age of just 25, he left a mark on our game that needs no embellishment.\r\n",
        "I don't know about you, but I keep looking for him. I know it is crazy but I expect any minute to take a call from him or to see his face pop around the corner.\r\n",
        "Is this what we call the spirit? If so, then his spirit is still with me. And I hope it never leaves.\r\n",
        "I walked to the middle of the SCG on Thursday night, those same blades of grass beneath my feet where he and I and so many of his mates here today have built partnerships, taken chances and lived out the dreams we paint in our heads as boys. The same stands where the crowds rose to their feet to cheer him on and that same fence he sent the ball to time and time again. And it is now forever the place where he fell.\r\n",
        "I stood there at the wicket, I knelt down and touched the grass. I swear he was with me.\r\n",
        "\r\n",
        "Picking me up off my feet to check if I was OK. Telling me we just needed to dig in and get through to tea. Telling me off for that loose shot I played. Chatting about what movie we might watch that night. And then passing on a useless fact about cows.\r\n",
        "I could see him swagger back to the other end, grin at the bowler, and call me through for a run with such a booming voice a bloke in the car park would hear it.\r\n",
        "The heart of a man who lived his life for this wonderful game we play, and whose soul enriched not just our sport, but all of our lives. \r\n",
        "\"\"\""
      ],
      "execution_count": 1,
      "outputs": []
    },
    {
      "cell_type": "code",
      "metadata": {
        "id": "cKJnCNSzIbvI"
      },
      "source": [
        "import spacy\r\n",
        "from spacy.lang.en.stop_words import STOP_WORDS\r\n",
        "from string import punctuation"
      ],
      "execution_count": 2,
      "outputs": []
    },
    {
      "cell_type": "code",
      "metadata": {
        "id": "5XfI9nu3Ihhx"
      },
      "source": [
        "stopwords = list(STOP_WORDS)"
      ],
      "execution_count": 3,
      "outputs": []
    },
    {
      "cell_type": "code",
      "metadata": {
        "id": "DPgF9_l4IomE"
      },
      "source": [
        "nlp = spacy.load('en_core_web_sm')"
      ],
      "execution_count": 4,
      "outputs": []
    },
    {
      "cell_type": "code",
      "metadata": {
        "id": "38ns5sBkIuRj"
      },
      "source": [
        "doc = nlp(txt)"
      ],
      "execution_count": 5,
      "outputs": []
    },
    {
      "cell_type": "code",
      "metadata": {
        "colab": {
          "base_uri": "https://localhost:8080/"
        },
        "id": "YinK7kMBI0J0",
        "outputId": "c27c85ad-438e-46e9-dc9e-c0dadaaf1c43"
      },
      "source": [
        "tokens = [token.text for token in doc]\r\n",
        "print(tokens)"
      ],
      "execution_count": 6,
      "outputs": [
        {
          "output_type": "stream",
          "text": [
            "[' ', 'I', \"'m\", 'deeply', 'honoured', 'to', 'have', 'been', 'asked', 'by', 'Phillip', \"'s\", 'family', 'to', 'speak', 'today', '.', 'I', 'am', 'humbled', 'to', 'be', 'in', 'the', 'presence', 'of', 'you', ',', 'his', 'family', ',', 'his', 'friends', 'and', 'his', 'community', '.', 'He', 'was', 'so', 'proud', 'of', 'Macksville', 'and', 'it', 'is', 'easy', 'to', 'see', 'why', 'today', '.', '\\n', 'Taken', 'from', 'the', 'game', ',', 'his', 'family', 'and', 'loved', 'ones', 'at', 'the', 'age', 'of', 'just', '25', ',', 'he', 'left', 'a', 'mark', 'on', 'our', 'game', 'that', 'needs', 'no', 'embellishment', '.', '\\n', 'I', 'do', \"n't\", 'know', 'about', 'you', ',', 'but', 'I', 'keep', 'looking', 'for', 'him', '.', 'I', 'know', 'it', 'is', 'crazy', 'but', 'I', 'expect', 'any', 'minute', 'to', 'take', 'a', 'call', 'from', 'him', 'or', 'to', 'see', 'his', 'face', 'pop', 'around', 'the', 'corner', '.', '\\n', 'Is', 'this', 'what', 'we', 'call', 'the', 'spirit', '?', 'If', 'so', ',', 'then', 'his', 'spirit', 'is', 'still', 'with', 'me', '.', 'And', 'I', 'hope', 'it', 'never', 'leaves', '.', '\\n', 'I', 'walked', 'to', 'the', 'middle', 'of', 'the', 'SCG', 'on', 'Thursday', 'night', ',', 'those', 'same', 'blades', 'of', 'grass', 'beneath', 'my', 'feet', 'where', 'he', 'and', 'I', 'and', 'so', 'many', 'of', 'his', 'mates', 'here', 'today', 'have', 'built', 'partnerships', ',', 'taken', 'chances', 'and', 'lived', 'out', 'the', 'dreams', 'we', 'paint', 'in', 'our', 'heads', 'as', 'boys', '.', 'The', 'same', 'stands', 'where', 'the', 'crowds', 'rose', 'to', 'their', 'feet', 'to', 'cheer', 'him', 'on', 'and', 'that', 'same', 'fence', 'he', 'sent', 'the', 'ball', 'to', 'time', 'and', 'time', 'again', '.', 'And', 'it', 'is', 'now', 'forever', 'the', 'place', 'where', 'he', 'fell', '.', '\\n', 'I', 'stood', 'there', 'at', 'the', 'wicket', ',', 'I', 'knelt', 'down', 'and', 'touched', 'the', 'grass', '.', 'I', 'swear', 'he', 'was', 'with', 'me', '.', '\\n\\n', 'Picking', 'me', 'up', 'off', 'my', 'feet', 'to', 'check', 'if', 'I', 'was', 'OK', '.', 'Telling', 'me', 'we', 'just', 'needed', 'to', 'dig', 'in', 'and', 'get', 'through', 'to', 'tea', '.', 'Telling', 'me', 'off', 'for', 'that', 'loose', 'shot', 'I', 'played', '.', 'Chatting', 'about', 'what', 'movie', 'we', 'might', 'watch', 'that', 'night', '.', 'And', 'then', 'passing', 'on', 'a', 'useless', 'fact', 'about', 'cows', '.', '\\n', 'I', 'could', 'see', 'him', 'swagger', 'back', 'to', 'the', 'other', 'end', ',', 'grin', 'at', 'the', 'bowler', ',', 'and', 'call', 'me', 'through', 'for', 'a', 'run', 'with', 'such', 'a', 'booming', 'voice', 'a', 'bloke', 'in', 'the', 'car', 'park', 'would', 'hear', 'it', '.', '\\n', 'The', 'heart', 'of', 'a', 'man', 'who', 'lived', 'his', 'life', 'for', 'this', 'wonderful', 'game', 'we', 'play', ',', 'and', 'whose', 'soul', 'enriched', 'not', 'just', 'our', 'sport', ',', 'but', 'all', 'of', 'our', 'lives', '.', '\\n']\n"
          ],
          "name": "stdout"
        }
      ]
    },
    {
      "cell_type": "code",
      "metadata": {
        "colab": {
          "base_uri": "https://localhost:8080/",
          "height": 35
        },
        "id": "JRS72tEQI4K5",
        "outputId": "07c86f33-cc76-4d72-babd-44813cc06f06"
      },
      "source": [
        "punctuation = punctuation + '\\n'\r\n",
        "punctuation"
      ],
      "execution_count": 7,
      "outputs": [
        {
          "output_type": "execute_result",
          "data": {
            "application/vnd.google.colaboratory.intrinsic+json": {
              "type": "string"
            },
            "text/plain": [
              "'!\"#$%&\\'()*+,-./:;<=>?@[\\\\]^_`{|}~\\n'"
            ]
          },
          "metadata": {
            "tags": []
          },
          "execution_count": 7
        }
      ]
    },
    {
      "cell_type": "code",
      "metadata": {
        "colab": {
          "base_uri": "https://localhost:8080/"
        },
        "id": "Jz4fG0M1JqK8",
        "outputId": "bb8ddabf-935e-47c3-f3c6-d11229747e2c"
      },
      "source": [
        "word_frequencies = {}\r\n",
        "for word in doc:\r\n",
        "    if word.text.lower() not in stopwords:\r\n",
        "        if word.text.lower() not in punctuation:\r\n",
        "            if word.text not in word_frequencies.keys():\r\n",
        "                word_frequencies[word.text] = 1\r\n",
        "            else:\r\n",
        "                word_frequencies[word.text] += 1\r\n",
        "                \r\n",
        "print(word_frequencies)"
      ],
      "execution_count": 8,
      "outputs": [
        {
          "output_type": "stream",
          "text": [
            "{' ': 1, 'deeply': 1, 'honoured': 1, 'asked': 1, 'Phillip': 1, 'family': 3, 'speak': 1, 'today': 3, 'humbled': 1, 'presence': 1, 'friends': 1, 'community': 1, 'proud': 1, 'Macksville': 1, 'easy': 1, 'Taken': 1, 'game': 3, 'loved': 1, 'ones': 1, 'age': 1, '25': 1, 'left': 1, 'mark': 1, 'needs': 1, 'embellishment': 1, 'know': 2, 'looking': 1, 'crazy': 1, 'expect': 1, 'minute': 1, 'face': 1, 'pop': 1, 'corner': 1, 'spirit': 2, 'hope': 1, 'leaves': 1, 'walked': 1, 'middle': 1, 'SCG': 1, 'Thursday': 1, 'night': 2, 'blades': 1, 'grass': 2, 'beneath': 1, 'feet': 3, 'mates': 1, 'built': 1, 'partnerships': 1, 'taken': 1, 'chances': 1, 'lived': 2, 'dreams': 1, 'paint': 1, 'heads': 1, 'boys': 1, 'stands': 1, 'crowds': 1, 'rose': 1, 'cheer': 1, 'fence': 1, 'sent': 1, 'ball': 1, 'time': 2, 'forever': 1, 'place': 1, 'fell': 1, 'stood': 1, 'wicket': 1, 'knelt': 1, 'touched': 1, 'swear': 1, '\\n\\n': 1, 'Picking': 1, 'check': 1, 'OK': 1, 'Telling': 2, 'needed': 1, 'dig': 1, 'tea': 1, 'loose': 1, 'shot': 1, 'played': 1, 'Chatting': 1, 'movie': 1, 'watch': 1, 'passing': 1, 'useless': 1, 'fact': 1, 'cows': 1, 'swagger': 1, 'end': 1, 'grin': 1, 'bowler': 1, 'run': 1, 'booming': 1, 'voice': 1, 'bloke': 1, 'car': 1, 'park': 1, 'hear': 1, 'heart': 1, 'man': 1, 'life': 1, 'wonderful': 1, 'play': 1, 'soul': 1, 'enriched': 1, 'sport': 1, 'lives': 1}\n"
          ],
          "name": "stdout"
        }
      ]
    },
    {
      "cell_type": "code",
      "metadata": {
        "colab": {
          "base_uri": "https://localhost:8080/"
        },
        "id": "IOOQaXvDJxc7",
        "outputId": "b2f494e5-bd1d-4256-ed8f-031031951dbf"
      },
      "source": [
        "max_frequency = max(word_frequencies.values())\r\n",
        "max_frequency"
      ],
      "execution_count": 9,
      "outputs": [
        {
          "output_type": "execute_result",
          "data": {
            "text/plain": [
              "3"
            ]
          },
          "metadata": {
            "tags": []
          },
          "execution_count": 9
        }
      ]
    },
    {
      "cell_type": "code",
      "metadata": {
        "colab": {
          "base_uri": "https://localhost:8080/"
        },
        "id": "Wn1BMIJUJ4-j",
        "outputId": "09570d6c-7bc6-4745-e86d-b82cc4050b3d"
      },
      "source": [
        "for word in word_frequencies.keys():\r\n",
        "    word_frequencies[word] = word_frequencies[word]/max_frequency\r\n",
        "\r\n",
        "print(word_frequencies)"
      ],
      "execution_count": 10,
      "outputs": [
        {
          "output_type": "stream",
          "text": [
            "{' ': 0.3333333333333333, 'deeply': 0.3333333333333333, 'honoured': 0.3333333333333333, 'asked': 0.3333333333333333, 'Phillip': 0.3333333333333333, 'family': 1.0, 'speak': 0.3333333333333333, 'today': 1.0, 'humbled': 0.3333333333333333, 'presence': 0.3333333333333333, 'friends': 0.3333333333333333, 'community': 0.3333333333333333, 'proud': 0.3333333333333333, 'Macksville': 0.3333333333333333, 'easy': 0.3333333333333333, 'Taken': 0.3333333333333333, 'game': 1.0, 'loved': 0.3333333333333333, 'ones': 0.3333333333333333, 'age': 0.3333333333333333, '25': 0.3333333333333333, 'left': 0.3333333333333333, 'mark': 0.3333333333333333, 'needs': 0.3333333333333333, 'embellishment': 0.3333333333333333, 'know': 0.6666666666666666, 'looking': 0.3333333333333333, 'crazy': 0.3333333333333333, 'expect': 0.3333333333333333, 'minute': 0.3333333333333333, 'face': 0.3333333333333333, 'pop': 0.3333333333333333, 'corner': 0.3333333333333333, 'spirit': 0.6666666666666666, 'hope': 0.3333333333333333, 'leaves': 0.3333333333333333, 'walked': 0.3333333333333333, 'middle': 0.3333333333333333, 'SCG': 0.3333333333333333, 'Thursday': 0.3333333333333333, 'night': 0.6666666666666666, 'blades': 0.3333333333333333, 'grass': 0.6666666666666666, 'beneath': 0.3333333333333333, 'feet': 1.0, 'mates': 0.3333333333333333, 'built': 0.3333333333333333, 'partnerships': 0.3333333333333333, 'taken': 0.3333333333333333, 'chances': 0.3333333333333333, 'lived': 0.6666666666666666, 'dreams': 0.3333333333333333, 'paint': 0.3333333333333333, 'heads': 0.3333333333333333, 'boys': 0.3333333333333333, 'stands': 0.3333333333333333, 'crowds': 0.3333333333333333, 'rose': 0.3333333333333333, 'cheer': 0.3333333333333333, 'fence': 0.3333333333333333, 'sent': 0.3333333333333333, 'ball': 0.3333333333333333, 'time': 0.6666666666666666, 'forever': 0.3333333333333333, 'place': 0.3333333333333333, 'fell': 0.3333333333333333, 'stood': 0.3333333333333333, 'wicket': 0.3333333333333333, 'knelt': 0.3333333333333333, 'touched': 0.3333333333333333, 'swear': 0.3333333333333333, '\\n\\n': 0.3333333333333333, 'Picking': 0.3333333333333333, 'check': 0.3333333333333333, 'OK': 0.3333333333333333, 'Telling': 0.6666666666666666, 'needed': 0.3333333333333333, 'dig': 0.3333333333333333, 'tea': 0.3333333333333333, 'loose': 0.3333333333333333, 'shot': 0.3333333333333333, 'played': 0.3333333333333333, 'Chatting': 0.3333333333333333, 'movie': 0.3333333333333333, 'watch': 0.3333333333333333, 'passing': 0.3333333333333333, 'useless': 0.3333333333333333, 'fact': 0.3333333333333333, 'cows': 0.3333333333333333, 'swagger': 0.3333333333333333, 'end': 0.3333333333333333, 'grin': 0.3333333333333333, 'bowler': 0.3333333333333333, 'run': 0.3333333333333333, 'booming': 0.3333333333333333, 'voice': 0.3333333333333333, 'bloke': 0.3333333333333333, 'car': 0.3333333333333333, 'park': 0.3333333333333333, 'hear': 0.3333333333333333, 'heart': 0.3333333333333333, 'man': 0.3333333333333333, 'life': 0.3333333333333333, 'wonderful': 0.3333333333333333, 'play': 0.3333333333333333, 'soul': 0.3333333333333333, 'enriched': 0.3333333333333333, 'sport': 0.3333333333333333, 'lives': 0.3333333333333333}\n"
          ],
          "name": "stdout"
        }
      ]
    },
    {
      "cell_type": "code",
      "metadata": {
        "colab": {
          "base_uri": "https://localhost:8080/"
        },
        "id": "o4egpKv_KFtZ",
        "outputId": "d0b12c4e-d08f-4d78-de0b-a5ed43bfb039"
      },
      "source": [
        "sentence_tokens = [sent for sent in doc.sents]\r\n",
        "print(sentence_tokens)"
      ],
      "execution_count": 11,
      "outputs": [
        {
          "output_type": "stream",
          "text": [
            "[ I'm deeply honoured to have been asked by Phillip's family to speak today., I am humbled to be in the presence of you, his family, his friends and his community., He was so proud of Macksville, and it is easy to see why today.\n",
            ", Taken from the game, his family and loved ones at the age of just 25, he left a mark on our game that needs no embellishment.\n",
            ", I don't know about you, but I keep looking for him., I know it is crazy, but I expect any minute to take a call from him or to see his face pop around the corner.\n",
            ", Is this what we call the spirit?, If so, then his spirit is still with me., And I hope it never leaves.\n",
            ", I walked to the middle of the SCG on Thursday night, those same blades of grass beneath my feet where he and I and so many of his mates here today have built partnerships, taken chances and lived out the dreams we paint in our heads as boys., The same stands where the crowds rose to their feet to cheer him on and that same fence he sent the ball to time and time again., And it is now forever the place where he fell.\n",
            ", I stood there at the wicket, I knelt down and touched the grass., I swear he was with me.\n",
            "\n",
            ", Picking me up off my feet to check if I was OK., Telling me we just needed to dig in and get through to tea., Telling me off for that loose shot I played., Chatting about what movie we might watch that night., And then passing on a useless fact about cows.\n",
            ", I could see him swagger back to the other end, grin at the bowler, and call me through for a run with such a booming voice a bloke in the car park would hear it.\n",
            ", The heart of a man who lived his life for this wonderful game we play, and whose soul enriched not just our sport, but all of our lives. \n",
            "]\n"
          ],
          "name": "stdout"
        }
      ]
    },
    {
      "cell_type": "code",
      "metadata": {
        "colab": {
          "base_uri": "https://localhost:8080/"
        },
        "id": "qjA4XoLEKMwH",
        "outputId": "659495db-4bea-4407-ec0c-ee182af926aa"
      },
      "source": [
        "sentence_scores = {}\r\n",
        "for sent in sentence_tokens:\r\n",
        "    for word in sent:\r\n",
        "        if word.text.lower() in word_frequencies.keys():\r\n",
        "            if sent not in sentence_scores.keys():\r\n",
        "                sentence_scores[sent] = word_frequencies[word.text.lower()]\r\n",
        "            else:\r\n",
        "                sentence_scores[sent] += word_frequencies[word.text.lower()]\r\n",
        "                \r\n",
        "sentence_scores"
      ],
      "execution_count": 12,
      "outputs": [
        {
          "output_type": "execute_result",
          "data": {
            "text/plain": [
              "{ I'm deeply honoured to have been asked by Phillip's family to speak today.: 3.6666666666666665,\n",
              " I am humbled to be in the presence of you, his family, his friends and his community.: 2.333333333333333,\n",
              " He was so proud of Macksville: 0.3333333333333333,\n",
              " and it is easy to see why today.: 1.3333333333333333,\n",
              " Taken from the game, his family and loved ones at the age of just 25, he left a mark on our game that needs no embellishment.: 5.999999999999999,\n",
              " I don't know about you, but I keep looking for him.: 1.0,\n",
              " I know it is crazy: 1.0,\n",
              " but I expect any minute to take a call from him or to see his face pop around the corner.: 1.6666666666666665,\n",
              " Is this what we call the spirit?: 0.6666666666666666,\n",
              " If so, then his spirit is still with me.: 0.6666666666666666,\n",
              " And I hope it never leaves.: 0.6666666666666666,\n",
              " I walked to the middle of the SCG on Thursday night, those same blades of grass beneath my feet where he and I and so many of his mates here today have built partnerships, taken chances and lived out the dreams we paint in our heads as boys.: 8.333333333333332,\n",
              " The same stands where the crowds rose to their feet to cheer him on and that same fence he sent the ball to time and time again.: 4.666666666666668,\n",
              " And it is now forever the place where he fell.: 1.0,\n",
              " I stood there at the wicket, I knelt down and touched the grass.: 2.0,\n",
              " I swear he was with me.\n",
              " : 0.6666666666666666,\n",
              " Picking me up off my feet to check if I was OK.: 1.3333333333333333,\n",
              " Telling me we just needed to dig in and get through to tea.: 1.0,\n",
              " Telling me off for that loose shot I played.: 1.0,\n",
              " Chatting about what movie we might watch that night.: 1.3333333333333333,\n",
              " And then passing on a useless fact about cows.: 1.3333333333333333,\n",
              " I could see him swagger back to the other end, grin at the bowler, and call me through for a run with such a booming voice a bloke in the car park would hear it.: 3.666666666666667,\n",
              " The heart of a man who lived his life for this wonderful game we play, and whose soul enriched not just our sport, but all of our lives. : 4.666666666666666}"
            ]
          },
          "metadata": {
            "tags": []
          },
          "execution_count": 12
        }
      ]
    },
    {
      "cell_type": "code",
      "metadata": {
        "id": "RJIUIM1zKVNd"
      },
      "source": [
        "from heapq import nlargest"
      ],
      "execution_count": 13,
      "outputs": []
    },
    {
      "cell_type": "code",
      "metadata": {
        "colab": {
          "base_uri": "https://localhost:8080/"
        },
        "id": "X1mz3SfPKc3d",
        "outputId": "246d83cf-bfef-4134-df30-efe6c05a5408"
      },
      "source": [
        "select_length = int(len(sentence_tokens)*0.3)\r\n",
        "select_length"
      ],
      "execution_count": 14,
      "outputs": [
        {
          "output_type": "execute_result",
          "data": {
            "text/plain": [
              "6"
            ]
          },
          "metadata": {
            "tags": []
          },
          "execution_count": 14
        }
      ]
    },
    {
      "cell_type": "code",
      "metadata": {
        "colab": {
          "base_uri": "https://localhost:8080/"
        },
        "id": "AT-449JYKoIH",
        "outputId": "3036054c-c05b-4bd1-ad88-20ed8e7f236c"
      },
      "source": [
        "summary = nlargest(select_length, sentence_scores, key = sentence_scores.get)\r\n",
        "summary"
      ],
      "execution_count": 15,
      "outputs": [
        {
          "output_type": "execute_result",
          "data": {
            "text/plain": [
              "[I walked to the middle of the SCG on Thursday night, those same blades of grass beneath my feet where he and I and so many of his mates here today have built partnerships, taken chances and lived out the dreams we paint in our heads as boys.,\n",
              " Taken from the game, his family and loved ones at the age of just 25, he left a mark on our game that needs no embellishment.,\n",
              " The same stands where the crowds rose to their feet to cheer him on and that same fence he sent the ball to time and time again.,\n",
              " The heart of a man who lived his life for this wonderful game we play, and whose soul enriched not just our sport, but all of our lives. ,\n",
              " I could see him swagger back to the other end, grin at the bowler, and call me through for a run with such a booming voice a bloke in the car park would hear it.,\n",
              "  I'm deeply honoured to have been asked by Phillip's family to speak today.]"
            ]
          },
          "metadata": {
            "tags": []
          },
          "execution_count": 15
        }
      ]
    },
    {
      "cell_type": "code",
      "metadata": {
        "id": "nZe-Xd-UKuiy"
      },
      "source": [
        "final_summary = [word.text for word in summary]\r\n",
        "summary = ' '.join(final_summary)"
      ],
      "execution_count": 16,
      "outputs": []
    },
    {
      "cell_type": "code",
      "metadata": {
        "colab": {
          "base_uri": "https://localhost:8080/"
        },
        "id": "hxD1kS2SK1_4",
        "outputId": "87d4ab1b-3b94-45ac-8fbd-7aea0873c030"
      },
      "source": [
        "print(summary)"
      ],
      "execution_count": 17,
      "outputs": [
        {
          "output_type": "stream",
          "text": [
            "I walked to the middle of the SCG on Thursday night, those same blades of grass beneath my feet where he and I and so many of his mates here today have built partnerships, taken chances and lived out the dreams we paint in our heads as boys. Taken from the game, his family and loved ones at the age of just 25, he left a mark on our game that needs no embellishment.\n",
            " The same stands where the crowds rose to their feet to cheer him on and that same fence he sent the ball to time and time again. The heart of a man who lived his life for this wonderful game we play, and whose soul enriched not just our sport, but all of our lives. \n",
            " I could see him swagger back to the other end, grin at the bowler, and call me through for a run with such a booming voice a bloke in the car park would hear it.\n",
            "  I'm deeply honoured to have been asked by Phillip's family to speak today.\n"
          ],
          "name": "stdout"
        }
      ]
    },
    {
      "cell_type": "code",
      "metadata": {
        "colab": {
          "base_uri": "https://localhost:8080/"
        },
        "id": "7fmvEk1CK7BF",
        "outputId": "f261ef2c-0e5a-426f-b3ed-163bc4b0d865"
      },
      "source": [
        "print(txt)"
      ],
      "execution_count": 18,
      "outputs": [
        {
          "output_type": "stream",
          "text": [
            " I'm deeply honoured to have been asked by Phillip's family to speak today. I am humbled to be in the presence of you, his family, his friends and his community. He was so proud of Macksville and it is easy to see why today.\n",
            "Taken from the game, his family and loved ones at the age of just 25, he left a mark on our game that needs no embellishment.\n",
            "I don't know about you, but I keep looking for him. I know it is crazy but I expect any minute to take a call from him or to see his face pop around the corner.\n",
            "Is this what we call the spirit? If so, then his spirit is still with me. And I hope it never leaves.\n",
            "I walked to the middle of the SCG on Thursday night, those same blades of grass beneath my feet where he and I and so many of his mates here today have built partnerships, taken chances and lived out the dreams we paint in our heads as boys. The same stands where the crowds rose to their feet to cheer him on and that same fence he sent the ball to time and time again. And it is now forever the place where he fell.\n",
            "I stood there at the wicket, I knelt down and touched the grass. I swear he was with me.\n",
            "\n",
            "Picking me up off my feet to check if I was OK. Telling me we just needed to dig in and get through to tea. Telling me off for that loose shot I played. Chatting about what movie we might watch that night. And then passing on a useless fact about cows.\n",
            "I could see him swagger back to the other end, grin at the bowler, and call me through for a run with such a booming voice a bloke in the car park would hear it.\n",
            "The heart of a man who lived his life for this wonderful game we play, and whose soul enriched not just our sport, but all of our lives. \n",
            "\n"
          ],
          "name": "stdout"
        }
      ]
    }
  ]
}